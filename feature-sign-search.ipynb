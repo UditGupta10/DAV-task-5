{
 "cells": [
  {
   "cell_type": "code",
   "execution_count": 87,
   "metadata": {},
   "outputs": [],
   "source": [
    "import numpy as np\n",
    "from scipy.stats import ortho_group"
   ]
  },
  {
   "cell_type": "markdown",
   "metadata": {},
   "source": [
    "# Input vector"
   ]
  },
  {
   "cell_type": "code",
   "execution_count": 88,
   "metadata": {},
   "outputs": [],
   "source": [
    "y = np.array([1, 2, 3, 4, 5])"
   ]
  },
  {
   "cell_type": "markdown",
   "metadata": {},
   "source": [
    "# Initialization"
   ]
  },
  {
   "cell_type": "code",
   "execution_count": 89,
   "metadata": {},
   "outputs": [],
   "source": [
    "N = 3          #   No. of basis functions\n",
    "K = len(y)     #   Dimensions of the input vector\n",
    "gamma = 6\n",
    "tol = 1e-5\n",
    "active_set = set()\n",
    "features = np.zeros(N)\n",
    "signs = np.zeros(N)\n",
    "A = ortho_group.rvs(dim=K)    # Matrix containing orthogonal bases\n",
    "A = A[:,:N]\n",
    "part_diff = np.zeros(N)"
   ]
  },
  {
   "cell_type": "code",
   "execution_count": 97,
   "metadata": {},
   "outputs": [
    {
     "name": "stdout",
     "output_type": "stream",
     "text": [
      "Basis vectors are: \n",
      "[[ 0.6273561   0.51992779  0.07634933]\n",
      " [ 0.36607971 -0.46775075 -0.20412154]\n",
      " [-0.35940133  0.59977998 -0.60359217]\n",
      " [ 0.57128414  0.0177932  -0.47048882]\n",
      " [ 0.12990412  0.38837059  0.60565827]]\n"
     ]
    }
   ],
   "source": [
    "print('Basis vectors are: \\n' + str(A))"
   ]
  },
  {
   "cell_type": "markdown",
   "metadata": {},
   "source": [
    "# Feature sign search algorithm"
   ]
  },
  {
   "cell_type": "code",
   "execution_count": 90,
   "metadata": {},
   "outputs": [],
   "source": [
    "while True:\n",
    "    for i in range(N):\n",
    "        for j in range(K):\n",
    "            part_diff[i] += -2*(y[j] - A[j, :].dot(features))*A[j, i]\n",
    "    max_val = np.amax(part_diff)\n",
    "    max_ind = np.argmax(np.abs(part_diff))\n",
    "    if(max_val > gamma):\n",
    "        signs[max_ind] = -1\n",
    "        active_set = active_set | {max_ind}\n",
    "    if(max_val < -gamma):\n",
    "        signs[max_ind] = 1\n",
    "        active_set = active_set | {max_ind}\n",
    "\n",
    "    while True:\n",
    "        A_hat = A[:, list(active_set)]\n",
    "        features_hat = features[list(active_set)]\n",
    "        signs_hat = signs[list(active_set)]\n",
    "        features_hat_new = np.linalg.inv(A_hat.T @ A_hat) @ ((A_hat.T @ y) - (gamma/2)*signs_hat)\n",
    "        features_intermediate = np.zeros((len(active_set), 20))\n",
    "        features_intermediate[:,0] = features_hat\n",
    "        features_min = features_hat_new\n",
    "        obj_min = ((y - A_hat @ features_min).T @ (y - A_hat @ features_min)) + gamma*(signs_hat.T @ features_min)\n",
    "        for i in range(1, 20):\n",
    "            features_intermediate[:,i] = features_hat + (features_hat_new - features_hat)*i/20\n",
    "            if(np.any(features_intermediate[:,i]*features_intermediate[:,i-1] < 0)):\n",
    "                obj_intermediate = ((y - A_hat @ features_intermediate[:,i]).T @ (y - A_hat @ features_intermediate[:,i])) + gamma*(signs_hat.T @ features_intermediate[:,i])\n",
    "                if(obj_intermediate < obj_min):\n",
    "                    features_min = features_intermediate[:,i]\n",
    "                    obj_min = obj_intermediate\n",
    "\n",
    "        features_hat = features_min\n",
    "        features[list(active_set)] = features_hat\n",
    "        for i in range(len(features_hat)):\n",
    "            if(np.abs(features_hat[i]) < tol):\n",
    "                active_set.remove(list(active_set)[i])\n",
    "        signs = np.sign(features)\n",
    "\n",
    "        flag_1 = 0\n",
    "        for i in range(N):\n",
    "            if(np.abs(features[i]) > tol):\n",
    "                p_d = 0\n",
    "                for j in range(K):\n",
    "                    p_d += -2*(y[j] - A[j, :].dot(features))*A[j, i]\n",
    "                if(abs(p_d + gamma*signs[i]) > tol):\n",
    "                    flag_1 = 1\n",
    "                    break\n",
    "        if(flag_1 == 0):\n",
    "            break\n",
    "    \n",
    "    flag_2 = 0\n",
    "    for i in range(N):\n",
    "        if(np.abs(features[i]) < tol):\n",
    "            p_d = 0\n",
    "            for j in range(K):\n",
    "                p_d += -2*(y[j] - A[j, :].dot(features))*A[j, i]\n",
    "            if(abs(p_d) > gamma):\n",
    "                flag_2 = 1\n",
    "                break\n",
    "    if(flag_2 == 0):\n",
    "        break"
   ]
  },
  {
   "cell_type": "code",
   "execution_count": 94,
   "metadata": {},
   "outputs": [
    {
     "name": "stdout",
     "output_type": "stream",
     "text": [
      "The active set consists of: {0, 1}\n"
     ]
    }
   ],
   "source": [
    "print('The active set consists of: '+ str(active_set))"
   ]
  },
  {
   "cell_type": "code",
   "execution_count": 102,
   "metadata": {},
   "outputs": [
    {
     "name": "stdout",
     "output_type": "stream",
     "text": [
      "Coefficients (or features): [0.21596869 0.39679194 0.        ]\n"
     ]
    }
   ],
   "source": [
    "print('Coefficients (or features): '+ str(features))"
   ]
  },
  {
   "cell_type": "code",
   "execution_count": null,
   "metadata": {},
   "outputs": [],
   "source": []
  }
 ],
 "metadata": {
  "kernelspec": {
   "display_name": "Python 3",
   "language": "python",
   "name": "python3"
  },
  "language_info": {
   "codemirror_mode": {
    "name": "ipython",
    "version": 3
   },
   "file_extension": ".py",
   "mimetype": "text/x-python",
   "name": "python",
   "nbconvert_exporter": "python",
   "pygments_lexer": "ipython3",
   "version": "3.6.4"
  }
 },
 "nbformat": 4,
 "nbformat_minor": 2
}
