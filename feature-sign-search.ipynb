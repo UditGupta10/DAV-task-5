{
 "cells": [
  {
   "cell_type": "code",
   "execution_count": 63,
   "metadata": {},
   "outputs": [],
   "source": [
    "import numpy as np\n",
    "from scipy.stats import ortho_group"
   ]
  },
  {
   "cell_type": "code",
   "execution_count": 64,
   "metadata": {},
   "outputs": [],
   "source": [
    "y = np.array([1, 2, 3])  # input vector"
   ]
  },
  {
   "cell_type": "code",
   "execution_count": 65,
   "metadata": {},
   "outputs": [],
   "source": [
    "N = 2       #   No. of basis functions\n",
    "K = 3      #   Dimensions of the input vector\n",
    "gamma = .5\n",
    "active_set = set()\n",
    "features = np.zeros(N)\n",
    "signs = np.zeros(N, dtype='int8')\n",
    "A = ortho_group.rvs(dim=K)    # Matrix containing orthogonal bases\n",
    "A = A[:,:N]\n",
    "#(A[:,:N].T).dot(A[:,:N])"
   ]
  },
  {
   "cell_type": "code",
   "execution_count": 66,
   "metadata": {},
   "outputs": [],
   "source": [
    "part_diff = np.zeros(N)\n",
    "for i in range(N):\n",
    "    for j in range(K):\n",
    "        part_diff[i] += -2*(y[j] - A[j, :].dot(features))*A[j, i]\n",
    "max_val = np.amax(part_diff)\n",
    "max_ind = np.argmax(part_diff)\n",
    "if(max_val > gamma):\n",
    "    signs[max_ind] = -1\n",
    "    active_set = active_set | {max_ind}\n",
    "if(max_val < -gamma):\n",
    "    signs[max_ind] = 1\n",
    "    active_set = active_set | {max_ind}\n"
   ]
  },
  {
   "cell_type": "code",
   "execution_count": 89,
   "metadata": {},
   "outputs": [],
   "source": [
    "A_hat = A[:, list(active_set)]\n",
    "features_hat = features[list(active_set)]\n",
    "signs_hat = signs[list(active_set)]\n",
    "features_hat_new = np.linalg.inv(A_hat.T @ A_hat) @ ((A_hat.T @ y) - (gamma/2)*signs_hat)"
   ]
  },
  {
   "cell_type": "code",
   "execution_count": 90,
   "metadata": {},
   "outputs": [
    {
     "data": {
      "text/plain": [
       "array([-0.21620289])"
      ]
     },
     "execution_count": 90,
     "metadata": {},
     "output_type": "execute_result"
    }
   ],
   "source": [
    "features_hat_new"
   ]
  },
  {
   "cell_type": "code",
   "execution_count": 88,
   "metadata": {},
   "outputs": [
    {
     "data": {
      "text/plain": [
       "14"
      ]
     },
     "execution_count": 88,
     "metadata": {},
     "output_type": "execute_result"
    }
   ],
   "source": []
  },
  {
   "cell_type": "code",
   "execution_count": null,
   "metadata": {},
   "outputs": [],
   "source": []
  }
 ],
 "metadata": {
  "kernelspec": {
   "display_name": "Python 3",
   "language": "python",
   "name": "python3"
  },
  "language_info": {
   "codemirror_mode": {
    "name": "ipython",
    "version": 3
   },
   "file_extension": ".py",
   "mimetype": "text/x-python",
   "name": "python",
   "nbconvert_exporter": "python",
   "pygments_lexer": "ipython3",
   "version": "3.6.4"
  }
 },
 "nbformat": 4,
 "nbformat_minor": 2
}
